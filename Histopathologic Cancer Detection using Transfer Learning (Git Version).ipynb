{
 "cells": [
  {
   "cell_type": "markdown",
   "metadata": {},
   "source": [
    "### Introduction"
   ]
  },
  {
   "cell_type": "markdown",
   "metadata": {},
   "source": [
    "The goal of the following algorithm is to identify breast cancer, using only a small fraction of the available data (N=1148 for training, N=163 for testing and N=382 for the validation set) from the BreakHis dataset.\n",
    "\n",
    "This is probably too little data to train a ConvNet from scrath, so we will use a technique called Transfer Learning, which consists in adding a classifier on top of a pretrained ConvNet. Here, we will use the Xception ConvNet which is pretained on a the ImageNet dataset (A bank of 14 million labelled images)"
   ]
  },
  {
   "cell_type": "markdown",
   "metadata": {},
   "source": [
    " "
   ]
  },
  {
   "cell_type": "markdown",
   "metadata": {},
   "source": [
    "#### Results\n",
    "\n",
    "After fine-tuning of our model, we reached a 91.36 % accuracy on unseen data"
   ]
  },
  {
   "cell_type": "markdown",
   "metadata": {},
   "source": [
    " "
   ]
  },
  {
   "cell_type": "markdown",
   "metadata": {},
   "source": [
    "#### Imports"
   ]
  },
  {
   "cell_type": "code",
   "execution_count": 15,
   "metadata": {},
   "outputs": [],
   "source": [
    "import matplotlib.pyplot as plt\n",
    "import tensorflow as tf\n",
    "import pandas as pd\n",
    "import numpy as np\n",
    "import keras\n",
    "import time\n",
    "import cv2\n",
    "import os\n",
    "\n",
    "from keras.models import Sequential\n",
    "from keras.layers import Conv2D, MaxPooling2D\n",
    "from keras.layers import Activation, Dropout, Flatten, Dense\n",
    "from tensorflow.keras import regularizers"
   ]
  },
  {
   "cell_type": "code",
   "execution_count": 16,
   "metadata": {},
   "outputs": [],
   "source": [
    "path_images = '/Users/Casey/Desktop/3eyeDiagnosis/BreakHis'\n",
    "\n",
    "extensions = ['train', 'test']\n",
    "label_extensions = ['benign', 'malignant']"
   ]
  },
  {
   "cell_type": "code",
   "execution_count": 17,
   "metadata": {},
   "outputs": [],
   "source": [
    "def encode_label(label):\n",
    "    if label == 'benign':\n",
    "        return(0)\n",
    "    elif label == 'malignant':\n",
    "        return(1)\n",
    "    else:\n",
    "        raise Exception(\"Can't encode the value\", label)"
   ]
  },
  {
   "cell_type": "code",
   "execution_count": 18,
   "metadata": {},
   "outputs": [],
   "source": [
    "def encode_label(label):\n",
    "    if label == 'benign':\n",
    "        return(0)\n",
    "    elif label == 'malignant':\n",
    "        return(1)\n",
    "    else:\n",
    "        raise Exception(\"CACACA\")\n",
    "\n",
    "def build_data(extensions, label_extensions, path_images):\n",
    "    \n",
    "    images_train, images_test, labels_train, labels_test = [], [], [], []\n",
    "    \n",
    "    for extension in extensions:\n",
    "        for label in label_extensions:\n",
    "            path=os.path.join(path_images,extension,label)\n",
    "\n",
    "            for img in os.listdir(path):\n",
    "                img_array = cv2.imread(os.path.join(path,img))\n",
    "                encoded_label = encode_label(label)\n",
    "\n",
    "                if extension == 'train' :\n",
    "                    images_train.append(img_array)\n",
    "                    labels_train.append(encoded_label)\n",
    "                \n",
    "                elif extension == 'test':\n",
    "                    images_test.append(img_array)\n",
    "                    labels_test.append(encoded_label)\n",
    "                \n",
    "                else:\n",
    "                    print(\"Passed\")\n",
    "                    pass\n",
    "        \n",
    "    return(images_train, images_test, labels_train, labels_test)"
   ]
  },
  {
   "cell_type": "code",
   "execution_count": 19,
   "metadata": {},
   "outputs": [],
   "source": [
    "images_train, images_test, labels_train, labels_test = build_data(extensions, label_extensions, path_images)"
   ]
  },
  {
   "cell_type": "code",
   "execution_count": 20,
   "metadata": {},
   "outputs": [],
   "source": [
    "def bar_labels(labels,title):\n",
    "    \n",
    "    if len(np.unique(labels)) == 2:\n",
    "        values = [(len(labels) - np.sum(labels))/len(labels), np.sum(labels)/len(labels)]\n",
    "        plt.bar(np.unique(labels),values, label='Unique values frequencies', color='pink')\n",
    "        plt.legend()\n",
    "        plt.title(title)\n",
    "        plt.show()\n",
    "        \n",
    "        print(values)\n",
    "    \n",
    "    else:\n",
    "        raise Exception(\"np.unique(labels) has length != 2\")"
   ]
  },
  {
   "cell_type": "code",
   "execution_count": 21,
   "metadata": {},
   "outputs": [
    {
     "data": {
      "image/png": "[encoded data removed]",
      "text/plain": [
       "<Figure size 432x288 with 1 Axes>"
      ]
     },
     "metadata": {
      "needs_background": "light"
     },
     "output_type": "display_data"
    },
    {
     "name": "stdout",
     "output_type": "stream",
     "text": [
      "[0.3231707317073171, 0.676829268292683]\n"
     ]
    },
    {
     "data": {
      "image/png": "[encoded data removed]",
      "text/plain": [
       "<Figure size 432x288 with 1 Axes>"
      ]
     },
     "metadata": {
      "needs_background": "light"
     },
     "output_type": "display_data"
    },
    {
     "name": "stdout",
     "output_type": "stream",
     "text": [
      "[0.3229357798165138, 0.6770642201834862]\n"
     ]
    }
   ],
   "source": [
    "bar_labels(labels_train,'Train Labels')\n",
    "\n",
    "bar_labels(labels_test,'Test Labels')"
   ]
  },
  {
   "cell_type": "markdown",
   "metadata": {},
   "source": [
    "The proportion of malignant labels might be a bit too high. Problem is we have such a tiny amount of training/testing examples that we can't afford to drop a significant part of them"
   ]
  },
  {
   "cell_type": "markdown",
   "metadata": {},
   "source": [
    "#### Preprocessing"
   ]
  },
  {
   "cell_type": "code",
   "execution_count": 22,
   "metadata": {},
   "outputs": [],
   "source": [
    "from sklearn.utils import shuffle as sk_shuffle\n",
    "\n",
    "def resize(new_size, *args):\n",
    "    return_list = []\n",
    "    \n",
    "    for arg in args:\n",
    "        new_arg = []\n",
    "        for k in range(len(arg)):\n",
    "            resized_img = cv2.resize(arg[k], (new_size, new_size))\n",
    "            new_arg.append(resized_img)\n",
    "        return_list.append(new_arg)\n",
    "    return(return_list)\n",
    "\n",
    "def standardize(*args):\n",
    "    return_list = []\n",
    "    \n",
    "    for arg in args:\n",
    "        standardized_arg = []\n",
    "        \n",
    "        for img in arg:\n",
    "            img = img - np.mean(img)\n",
    "            img = img / np.std(img)\n",
    "            standardized_arg.append(img)\n",
    "        return_list.append(standardized_arg)\n",
    "    return(return_list)\n",
    "\n",
    "def shuffle(X,y):\n",
    "    X_shuffle, y_shuffle = sk_shuffle(X, y, random_state=0)\n",
    "    return(X_shuffle, y_shuffle)\n",
    "\n",
    "# In this particular case, we have to split the \"test\" set into two parts : an actual testing set and a validation set\n",
    "def split_test_val(X, y, test_ratio):\n",
    "    length = int(test_ratio * len(X))\n",
    "    new_images_test, new_labels_test = X[0:length] , y[0:length]\n",
    "    new_images_val, new_labels_val = X[length:] , y[length:]\n",
    "    \n",
    "    return(new_images_test, new_images_val, new_labels_test, new_labels_val)"
   ]
  },
  {
   "cell_type": "code",
   "execution_count": 23,
   "metadata": {},
   "outputs": [],
   "source": [
    "# resizing\n",
    "images_train, images_test = resize(images_train[0].shape[0], images_train, images_test)\n",
    "\n",
    "# standardization\n",
    "images_train_sd, images_test_sd = standardize(images_train, images_test)"
   ]
  },
  {
   "cell_type": "code",
   "execution_count": 24,
   "metadata": {},
   "outputs": [],
   "source": [
    "# shuffling the training and testing images/labels\n",
    "X_train, y_train = shuffle(images_train_sd, labels_train)\n",
    "\n",
    "X_test, y_test = shuffle(images_test_sd, labels_test)"
   ]
  },
  {
   "cell_type": "code",
   "execution_count": 25,
   "metadata": {},
   "outputs": [],
   "source": [
    "# Splitting, creating the testing and validation sets\n",
    "\n",
    "test_ratio = 0.3\n",
    "\n",
    "X_test, X_val, y_test, y_val = split_test_val(X_test, y_test, test_ratio)"
   ]
  },
  {
   "cell_type": "code",
   "execution_count": 26,
   "metadata": {},
   "outputs": [],
   "source": [
    "# Conversion to array\n",
    "\n",
    "def convert_to_array(*args):\n",
    "    return_list = []\n",
    "    \n",
    "    for arg in args:\n",
    "        return_list.append(np.array(arg))\n",
    "    return(return_list)"
   ]
  },
  {
   "cell_type": "code",
   "execution_count": 27,
   "metadata": {},
   "outputs": [],
   "source": [
    "X_train, y_train, X_test, y_test, X_val, y_val = convert_to_array(X_train, y_train, X_test,\n",
    "                                                                 y_test, X_val, y_val)"
   ]
  },
  {
   "cell_type": "markdown",
   "metadata": {},
   "source": [
    "At this point, the data is preprocessed, meaning that we separated it in three different set (a training set to train the network, a testing set to monitor the accuracy of the network during the training phases, and a validation set to validate our model\n",
    "\n",
    "$\\textit{Remark :}$ The BreakHis dataset contains images of lymph node section scans, with four different images for the same patient, with a different zoom (x40, x100, x200, x400)\n",
    "There is no change that our three datasets are interacting, as we only kept the x400 zoomed scans. By doing so, we cancel the risk that two pictures coming from the same appear in two different sets, which could have been biasing our accuracy"
   ]
  },
  {
   "cell_type": "markdown",
   "metadata": {},
   "source": [
    "#### Model, Transfer Learning"
   ]
  },
  {
   "cell_type": "code",
   "execution_count": 25,
   "metadata": {},
   "outputs": [],
   "source": [
    "# Importing Xception\n",
    "\n",
    "input_shape = X_test[0].shape\n",
    "\n",
    "Xception = tf.keras.applications.Xception(include_top=False, weights=\"imagenet\",\n",
    "    input_tensor=None, input_shape=input_shape, pooling=None, \n",
    "    classes=1000, classifier_activation=\"softmax\")\n",
    "\n",
    "Xception.trainable = False"
   ]
  },
  {
   "cell_type": "code",
   "execution_count": 26,
   "metadata": {},
   "outputs": [],
   "source": [
    "# Defining a model, adding three layers on top of the pretrained \"base model\" ConvNet\n",
    "\n",
    "def transfer_model(base_model):\n",
    "    model = Sequential()\n",
    "    \n",
    "    model.add(base_model)\n",
    "    model.add(keras.layers.GlobalAveragePooling2D())\n",
    "    model.add(Dense(512, kernel_regularizer=regularizers.l1(l1=0.001), activation= 'relu'))\n",
    "    model.add(Dropout(0.2))\n",
    "    model.add(Dense(64, kernel_regularizer=regularizers.l1(l1=0.001), activation= 'relu'))\n",
    "    model.add(Dropout(0.2))\n",
    "    model.add(Dense(64, kernel_regularizer=regularizers.l1(l1=0.001), activation= 'relu'))\n",
    "    model.add(Dropout(0.2))\n",
    "    model.add(Dense(1,activation= 'sigmoid'))\n",
    "\n",
    "    return(model)"
   ]
  },
  {
   "cell_type": "code",
   "execution_count": 27,
   "metadata": {},
   "outputs": [],
   "source": [
    "model = transfer_model(Xception)"
   ]
  },
  {
   "cell_type": "code",
   "execution_count": 28,
   "metadata": {},
   "outputs": [],
   "source": [
    "model.compile(optimizer = 'adam', loss = 'binary_crossentropy', metrics = 'acc')"
   ]
  },
  {
   "cell_type": "code",
   "execution_count": 29,
   "metadata": {},
   "outputs": [
    {
     "name": "stdout",
     "output_type": "stream",
     "text": [
      "Model: \"sequential_2\"\n",
      "_________________________________________________________________\n",
      "Layer (type)                 Output Shape              Param #   \n",
      "=================================================================\n",
      "xception (Functional)        (None, 15, 15, 2048)      20861480  \n",
      "_________________________________________________________________\n",
      "global_average_pooling2d_2 ( (None, 2048)              0         \n",
      "_________________________________________________________________\n",
      "dense_6 (Dense)              (None, 512)               1049088   \n",
      "_________________________________________________________________\n",
      "dropout_4 (Dropout)          (None, 512)               0         \n",
      "_________________________________________________________________\n",
      "dense_7 (Dense)              (None, 64)                32832     \n",
      "_________________________________________________________________\n",
      "dropout_5 (Dropout)          (None, 64)                0         \n",
      "_________________________________________________________________\n",
      "dense_8 (Dense)              (None, 64)                4160      \n",
      "_________________________________________________________________\n",
      "dropout_6 (Dropout)          (None, 64)                0         \n",
      "_________________________________________________________________\n",
      "dense_9 (Dense)              (None, 1)                 65        \n",
      "=================================================================\n",
      "Total params: 21,947,625\n",
      "Trainable params: 1,086,145\n",
      "Non-trainable params: 20,861,480\n",
      "_________________________________________________________________\n"
     ]
    }
   ],
   "source": [
    "model.summary()"
   ]
  },
  {
   "cell_type": "code",
   "execution_count": 30,
   "metadata": {},
   "outputs": [
    {
     "name": "stdout",
     "output_type": "stream",
     "text": [
      "Epoch 1/10\n",
      "72/72 [==============================] - 766s 10s/step - loss: 16.7962 - acc: 0.7091 - val_loss: 2.1886 - val_acc: 0.8160\n",
      "Epoch 2/10\n",
      "72/72 [==============================] - 709s 10s/step - loss: 1.7784 - acc: 0.8182 - val_loss: 1.2698 - val_acc: 0.8098\n",
      "Epoch 3/10\n",
      "72/72 [==============================] - 695s 10s/step - loss: 1.1990 - acc: 0.8204 - val_loss: 1.0096 - val_acc: 0.8405\n",
      "Epoch 4/10\n",
      "72/72 [==============================] - 700s 10s/step - loss: 0.9784 - acc: 0.8544 - val_loss: 0.9434 - val_acc: 0.8344\n",
      "Epoch 5/10\n",
      "72/72 [==============================] - 693s 10s/step - loss: 0.8894 - acc: 0.8638 - val_loss: 0.8861 - val_acc: 0.8405\n",
      "Epoch 6/10\n",
      "72/72 [==============================] - 702s 10s/step - loss: 0.7849 - acc: 0.8899 - val_loss: 0.9288 - val_acc: 0.7730\n",
      "Epoch 7/10\n",
      "72/72 [==============================] - 694s 10s/step - loss: 0.8176 - acc: 0.8536 - val_loss: 0.7836 - val_acc: 0.8466\n",
      "Epoch 8/10\n",
      "72/72 [==============================] - 689s 10s/step - loss: 0.7224 - acc: 0.8693 - val_loss: 0.7679 - val_acc: 0.8466\n",
      "Epoch 9/10\n",
      "72/72 [==============================] - 685s 10s/step - loss: 0.7058 - acc: 0.8775 - val_loss: 0.8024 - val_acc: 0.8405\n",
      "Epoch 10/10\n",
      "72/72 [==============================] - 689s 10s/step - loss: 0.7212 - acc: 0.8593 - val_loss: 0.7610 - val_acc: 0.8528\n"
     ]
    }
   ],
   "source": [
    "early_stopping = [tf.keras.callbacks.EarlyStopping(patience=3, restore_best_weights=True)]\n",
    "\n",
    "number_epochs = 10\n",
    "history = model.fit(X_train, y_train, batch_size = 16, verbose = 1,\n",
    "                      epochs = number_epochs, validation_data=(X_test, y_test), callbacks = early_stopping)"
   ]
  },
  {
   "cell_type": "code",
   "execution_count": 34,
   "metadata": {},
   "outputs": [
    {
     "data": {
      "image/png": "[encoded data removed]",
      "text/plain": [
       "<Figure size 432x288 with 1 Axes>"
      ]
     },
     "metadata": {
      "needs_background": "light"
     },
     "output_type": "display_data"
    },
    {
     "data": {
      "image/png": "[encoded data removed]",
      "text/plain": [
       "<Figure size 432x288 with 1 Axes>"
      ]
     },
     "metadata": {
      "needs_background": "light"
     },
     "output_type": "display_data"
    }
   ],
   "source": [
    "plot_history(history, 10)"
   ]
  },
  {
   "cell_type": "code",
   "execution_count": 31,
   "metadata": {},
   "outputs": [
    {
     "name": "stdout",
     "output_type": "stream",
     "text": [
      "12/12 [==============================] - 225s 18s/step - loss: 0.6363 - acc: 0.8901\n"
     ]
    },
    {
     "data": {
      "text/plain": [
       "[0.6362903714179993, 0.8900523781776428]"
      ]
     },
     "execution_count": 31,
     "metadata": {},
     "output_type": "execute_result"
    }
   ],
   "source": [
    "model.evaluate(X_val, y_val)"
   ]
  },
  {
   "cell_type": "markdown",
   "metadata": {},
   "source": [
    "#### Fine-tuning the k-last Xception layers\n",
    "\n",
    "In the following lines, we perform the fine-tuning of the model, meaning that we will unfreeze a few of the last layers from the ConvNet, to train them and the classifier with a very low learning rate on the optimizer, to slightly adjust the network to our data even more. As before, we will use the Keras Callback Early Stopping to monitor the accuracy on the testing set and avoiding overfitting by restoring weights to the optimal fine-tuned model"
   ]
  },
  {
   "cell_type": "code",
   "execution_count": 7,
   "metadata": {},
   "outputs": [],
   "source": [
    "def set_trainable(model_input):\n",
    "    model_input.trainable = True\n",
    "    \n",
    "    for layer in model_input.layers[1:]:\n",
    "        layer.trainable = True\n",
    "\n",
    "    model_input.layers[0].trainable = False\n",
    "    \n",
    "    model_input.layers[0].trainable = True\n",
    "\n",
    "    for layer in model_input.layers[0].layers:\n",
    "        if layer not in model_input.layers[0].layers[-3:]:\n",
    "            layer.trainable = False\n",
    "    \n",
    "    return(model_input)"
   ]
  },
  {
   "cell_type": "markdown",
   "metadata": {},
   "source": [
    "#### Saving the model before fine-tuning to compare accuracies"
   ]
  },
  {
   "cell_type": "code",
   "execution_count": null,
   "metadata": {},
   "outputs": [],
   "source": [
    "save_path = '/Users/Casey/Desktop/3eyeDiagnosis/saved_models'\n",
    "\n",
    "def save_model(model_input, path):\n",
    "    model_input.save(path)\n",
    "\n",
    "save_model(model,save_path)"
   ]
  },
  {
   "cell_type": "code",
   "execution_count": 1,
   "metadata": {},
   "outputs": [],
   "source": [
    "save_path = '/Users/Casey/Desktop/3eyeDiagnosis/saved_models'\n",
    "\n",
    "def load_model(path):\n",
    "    loaded_model = keras.models.load_model(path)\n",
    "    return(loaded_model)"
   ]
  },
  {
   "cell_type": "code",
   "execution_count": 9,
   "metadata": {},
   "outputs": [],
   "source": [
    "# Reloading the model to perform the fine-tuning\n",
    "\n",
    "reloaded_model = load_model(save_path)"
   ]
  },
  {
   "cell_type": "code",
   "execution_count": 10,
   "metadata": {},
   "outputs": [],
   "source": [
    "# model_ft will be our final fine-tuned model\n",
    "\n",
    "model_ft = set_trainable(reloaded_model)"
   ]
  },
  {
   "cell_type": "code",
   "execution_count": 12,
   "metadata": {},
   "outputs": [],
   "source": [
    "# Compiling, low learning rate\n",
    "optimizer_ft = keras.optimizers.Adam(1e-5)\n",
    "\n",
    "model_ft.compile(optimizer = optimizer_ft, loss = 'binary_crossentropy', metrics = 'acc')"
   ]
  },
  {
   "cell_type": "code",
   "execution_count": 13,
   "metadata": {
    "scrolled": true
   },
   "outputs": [
    {
     "name": "stdout",
     "output_type": "stream",
     "text": [
      "Model: \"sequential_2\"\n",
      "_________________________________________________________________\n",
      "Layer (type)                 Output Shape              Param #   \n",
      "=================================================================\n",
      "xception (Functional)        (None, 15, 15, 2048)      20861480  \n",
      "_________________________________________________________________\n",
      "global_average_pooling2d_2 ( (None, 2048)              0         \n",
      "_________________________________________________________________\n",
      "dense_6 (Dense)              (None, 512)               1049088   \n",
      "_________________________________________________________________\n",
      "dropout_4 (Dropout)          (None, 512)               0         \n",
      "_________________________________________________________________\n",
      "dense_7 (Dense)              (None, 64)                32832     \n",
      "_________________________________________________________________\n",
      "dropout_5 (Dropout)          (None, 64)                0         \n",
      "_________________________________________________________________\n",
      "dense_8 (Dense)              (None, 64)                4160      \n",
      "_________________________________________________________________\n",
      "dropout_6 (Dropout)          (None, 64)                0         \n",
      "_________________________________________________________________\n",
      "dense_9 (Dense)              (None, 1)                 65        \n",
      "=================================================================\n",
      "Total params: 21,947,625\n",
      "Trainable params: 4,249,793\n",
      "Non-trainable params: 17,697,832\n",
      "_________________________________________________________________\n"
     ]
    }
   ],
   "source": [
    "model_ft.summary()"
   ]
  },
  {
   "cell_type": "markdown",
   "metadata": {},
   "source": [
    "#### Training, Fine-tuning"
   ]
  },
  {
   "cell_type": "code",
   "execution_count": 28,
   "metadata": {},
   "outputs": [
    {
     "name": "stdout",
     "output_type": "stream",
     "text": [
      "Epoch 1/10\n",
      "72/72 [==============================] - 820s 11s/step - loss: 0.6017 - acc: 0.8745 - val_loss: 0.6006 - val_acc: 0.8466\n",
      "Epoch 2/10\n",
      "72/72 [==============================] - 782s 11s/step - loss: 0.5013 - acc: 0.9140 - val_loss: 0.5877 - val_acc: 0.8466\n",
      "Epoch 3/10\n",
      "72/72 [==============================] - 760s 11s/step - loss: 0.5373 - acc: 0.8862 - val_loss: 0.5799 - val_acc: 0.8466\n",
      "Epoch 4/10\n",
      "72/72 [==============================] - 788s 11s/step - loss: 0.4921 - acc: 0.9084 - val_loss: 0.5703 - val_acc: 0.8528\n",
      "Epoch 5/10\n",
      "72/72 [==============================] - 750s 10s/step - loss: 0.5003 - acc: 0.9060 - val_loss: 0.5660 - val_acc: 0.8589\n",
      "Epoch 6/10\n",
      "72/72 [==============================] - 757s 11s/step - loss: 0.4880 - acc: 0.9127 - val_loss: 0.5644 - val_acc: 0.8589\n",
      "Epoch 7/10\n",
      "72/72 [==============================] - 754s 10s/step - loss: 0.5039 - acc: 0.8982 - val_loss: 0.5569 - val_acc: 0.8650\n",
      "Epoch 8/10\n",
      "72/72 [==============================] - 753s 10s/step - loss: 0.4540 - acc: 0.9301 - val_loss: 0.5541 - val_acc: 0.8589\n",
      "Epoch 9/10\n",
      "72/72 [==============================] - 765s 11s/step - loss: 0.4855 - acc: 0.9055 - val_loss: 0.5519 - val_acc: 0.8589\n",
      "Epoch 10/10\n",
      "72/72 [==============================] - 759s 11s/step - loss: 0.4699 - acc: 0.9172 - val_loss: 0.5430 - val_acc: 0.8834\n"
     ]
    }
   ],
   "source": [
    "number_epochs_ft = 10\n",
    "early_stopping = [tf.keras.callbacks.EarlyStopping(patience=3, restore_best_weights=True)]\n",
    "\n",
    "history_ft = model_ft.fit(X_train, y_train, batch_size = 16, verbose = 1,\n",
    "                      epochs = number_epochs_ft, validation_data=(X_test, y_test), callbacks = early_stopping)"
   ]
  },
  {
   "cell_type": "code",
   "execution_count": 39,
   "metadata": {},
   "outputs": [
    {
     "data": {
      "image/png": "[encoded data removed]",
      "text/plain": [
       "<Figure size 432x288 with 1 Axes>"
      ]
     },
     "metadata": {
      "needs_background": "light"
     },
     "output_type": "display_data"
    },
    {
     "data": {
      "image/png": "[encoded data removed]",
      "text/plain": [
       "<Figure size 432x288 with 1 Axes>"
      ]
     },
     "metadata": {
      "needs_background": "light"
     },
     "output_type": "display_data"
    }
   ],
   "source": [
    "plot_history(history_ft, number_epochs_ft)"
   ]
  },
  {
   "cell_type": "markdown",
   "metadata": {},
   "source": [
    "#### Accuracy comparaison"
   ]
  },
  {
   "cell_type": "code",
   "execution_count": 35,
   "metadata": {},
   "outputs": [
    {
     "name": "stdout",
     "output_type": "stream",
     "text": [
      "12/12 [==============================] - 236s 19s/step - loss: 0.4679 - acc: 0.9136\n"
     ]
    },
    {
     "data": {
      "text/plain": [
       "[0.4678932726383209, 0.9136125445365906]"
      ]
     },
     "execution_count": 35,
     "metadata": {},
     "output_type": "execute_result"
    }
   ],
   "source": [
    "# After fine-tuning\n",
    "\n",
    "model_ft.evaluate(X_val, y_val)"
   ]
  },
  {
   "cell_type": "markdown",
   "metadata": {},
   "source": [
    "The accuracy of the model before fine-tuning the last ConvNet layers was exactly 89 %\n",
    "\n",
    "With the fine-tuned model, we have a nice improvement of 2.36 % on unseen data, with a 91.36 % accuracy"
   ]
  },
  {
   "cell_type": "markdown",
   "metadata": {},
   "source": [
    "#### Type 0 and type 1 risks\n",
    "\n",
    "We call type 0 risk the risk that our final model predicts \"malignant\" when the actual label is \"benign\", and type 1 risk, the risk that it classifies \"benign\" when the actual label is \"malignant\""
   ]
  },
  {
   "cell_type": "code",
   "execution_count": 58,
   "metadata": {},
   "outputs": [],
   "source": [
    "def risk_type(model, X_val, y_val):\n",
    "    prediction = model_ft.predict(X_val)\n",
    "    \n",
    "    nb_mistakes_actual_benign = 0\n",
    "    nb_mistakes_actual_cancer = 0\n",
    "\n",
    "    for k in range(len(prediction)):\n",
    "        if prediction[k] < .5 and y_val[k] == 1:\n",
    "            nb_mistakes_actual_cancer += 1\n",
    "        elif prediction[k] > .5 and y_val[k] == 0:\n",
    "            nb_mistakes_actual_benign +=1\n",
    "        else:\n",
    "            pass\n",
    "        \n",
    "    type0risk = nb_mistakes_actual_benign / np.shape(X_val)[0]\n",
    "    type1risk = nb_mistakes_actual_cancer / np.shape(X_val)[0]\n",
    "    \n",
    "    return(type0risk, type1risk)"
   ]
  },
  {
   "cell_type": "code",
   "execution_count": 60,
   "metadata": {},
   "outputs": [],
   "source": [
    "risks = risk_type(model_ft, X_val, y_val)"
   ]
  },
  {
   "cell_type": "code",
   "execution_count": 68,
   "metadata": {},
   "outputs": [
    {
     "name": "stdout",
     "output_type": "stream",
     "text": [
      "Type 0 risk :  6.02 %\n",
      "Type 1 risk :  2.62 %\n"
     ]
    }
   ],
   "source": [
    "print(\"Type 0 risk : \", np.around(100*risks[0], 2),\"%\")\n",
    "\n",
    "print(\"Type 1 risk : \", np.around(100*risks[1], 2), \"%\")"
   ]
  },
  {
   "cell_type": "markdown",
   "metadata": {},
   "source": [
    "One reason for such a difference in these two risks is probably that our original dataset contains twice as much malignant tumors that benign ones"
   ]
  },
  {
   "cell_type": "markdown",
   "metadata": {},
   "source": [
    "#### Conclusion\n",
    "\n",
    "We performed a transfer learning technique from the Xception ConvNet to our model, that we fine-tuned to get a final accuracy of 91.36% on the prediction of wether or not a sample a breast tumor tissue extracted from a patient contains cancer cells.\n",
    "\n",
    "To further improve the accuracy of our model, an interesting thing to do would have been to select an optimal set of hyperparameters (optimizer's learning rate, number of epochs, number of Dense layers in the network etc...)\n",
    "This would have been very time-consuming on a MacBook Air, as a single round of training/fine-tuning took use a little less than five hours"
   ]
  },
  {
   "cell_type": "code",
   "execution_count": null,
   "metadata": {},
   "outputs": [],
   "source": []
  }
 ],
 "metadata": {
  "kernelspec": {
   "display_name": "Python 3",
   "language": "python",
   "name": "python3"
  },
  "language_info": {
   "codemirror_mode": {
    "name": "ipython",
    "version": 3
   },
   "file_extension": ".py",
   "mimetype": "text/x-python",
   "name": "python",
   "nbconvert_exporter": "python",
   "pygments_lexer": "ipython3",
   "version": "3.8.5"
  }
 },
 "nbformat": 4,
 "nbformat_minor": 4
}
